{
  "nbformat": 4,
  "nbformat_minor": 0,
  "metadata": {
    "colab": {
      "name": "10-Introducción a los algoritmos de aprendizaje automático",
      "provenance": [],
      "toc_visible": true,
      "authorship_tag": "ABX9TyMkNAkkFtDZD44GDja3mkcI",
      "include_colab_link": true
    },
    "kernelspec": {
      "name": "python3",
      "display_name": "Python 3"
    },
    "language_info": {
      "name": "python"
    },
    "accelerator": "GPU"
  },
  "cells": [
    {
      "cell_type": "markdown",
      "metadata": {
        "id": "view-in-github",
        "colab_type": "text"
      },
      "source": [
        "<a href=\"https://colab.research.google.com/github/jmsocuellamos/IASAC-ML/blob/main/10_Introducci%C3%B3n_a_los_algoritmos_de_aprendizaje_autom%C3%A1tico.ipynb\" target=\"_parent\"><img src=\"https://colab.research.google.com/assets/colab-badge.svg\" alt=\"Open In Colab\"/></a>"
      ]
    },
    {
      "cell_type": "markdown",
      "source": [
        "# $\\color{steelblue}{\\textsf{Introducción a los algoritmos de aprendizaje automático}}$\n",
        "\n",
        "**Autoría**: Fernando Borrrás (fborras@umh.es), Mª Asunción Martínez Mayoral (asun.mayoral@umh.es), Javier Morales (j.morales@umh.es). Departamento de Estadística, Matemáticas e Informática. Universidad Miguel Hernández de Elche. \n",
        "\n",
        "\n",
        "**Financiación**: El material que aparece a continuación se ha desarrollado dentro del marco del proyecto UNIDIGITAL- IASAC.\n",
        "\n",
        "<small><img src=https://raw.githubusercontent.com/jmsocuellamos/images/main/IASAC-principal.png width=\"250\" height=\"70\"></small>\n",
        "\n",
        "<small><img src=https://raw.githubusercontent.com/jmsocuellamos/images/main/FinanciaciónIASAC.png width=\"250\" height=\"25\"></small>\n",
        "\n",
        "**Fecha última edición**: 26/05/2022\n",
        "\n",
        "**Licencia**: <small><a rel=\"license\" href=\"http://creativecommons.org/licenses/by-sa/4.0/\"><img alt=\"Creative Commons License\" style=\"border-width:0\" src=\"https://i.creativecommons.org/l/by-sa/4.0/88x31.png\" /></a><br /></small>\n",
        "\n",
        "No olvides hacer una copia si deseas utilizarlo. Al usar estos contenidos, acepta nuestros términos de uso y nuestra política de privacidad. \n"
      ],
      "metadata": {
        "id": "-7whhErFzY9J"
      }
    },
    {
      "cell_type": "markdown",
      "source": [
        "# $\\color{steelblue}{\\textsf{Consideraciones iniciales}}$\n",
        "\n",
        "\n",
        "**Descripción:** En este cuaderno se hace una pequeña introducción al aprendizaje automático a través de la presentación de los conceptos básicos, tipos de algoritos utilizados, flujo de trabajo necesario, y criterios apra la valoración de la solución obtenida.\n",
        "\n",
        "**Nivel de Formación:** B.\n",
        "\n",
        "**Recomendaciones antes de usarlo:** Conocimientos básicos del lenguaje Python, conceptos básicos de probabildiad y análisis exploratorio de datos.\n",
        "\n",
        "**Objetivos de aprendizaje:**\n",
        "\n",
        "* Conocer los funadamentos del aprendizaje automático.\n",
        "* Descubrir los diferentes tipos de aprendizaje automático y los principales algoritmos que intervienen en ellos.\n",
        "* Conocer el fljo de trabajo habitual en un proceso de aprendizaje automático.\n",
        "* Conocee las diferentes métricas de evalaución de una solución de aprendizaje automático en función del objetivo que se persigue.\n",
        "\n"
      ],
      "metadata": {
        "id": "Wt99G2Jk5jX4"
      }
    },
    {
      "cell_type": "markdown",
      "source": [
        "# $\\color{steelblue}{\\textsf{¿Qué es el aprendizaje automático? }}$"
      ],
      "metadata": {
        "id": "1d_3-DKt7Ige"
      }
    },
    {
      "cell_type": "markdown",
      "source": [
        "Vivimos en la era de las máquinas inteligentes. En la última década, los sistemas basados en el aprendizaje automático han pasado de vencer a los mejores jugadores de ajedrez a influir en la mayoría de nuestras decisiones diarias, como lo que vemos en servicios de streaming como Netlix y Youtube. ¿Qué es el aprendizaje automático? ¿Y por qué es importante estudiarlo ahora?\n",
        "\n",
        "Oímos que el aprendizaje automático está transformando muchos sectores, pero ¿para qué podemos utilizarlo exactamente? ¿Y cuál es el conjunto de problemas para los que esta tecnología es o no adecuada?\n",
        "\n",
        "El aprendizaje automático es un nuevo paradigma de programación en el que, en lugar de programar explícitamente los ordenadores para que realicen algunas tareas, dejamos que aprendan de los datos para encontrar los patrones subyacentes en ellos. En pocas palabras, el aprendizaje automático es la ciencia que da a la máquina la capacidad de razonar sobre los datos.\n",
        "\n",
        "Dado que el éxito de un algoritmo de aprendizaje depende de los datos utilizados, el aprendizaje automático está intrínsecamente relacionado con el análisis de datos y la estadística. En general, las técnicas de aprendizaje son métodos basados en datos que combinan conceptos fundamentales de la informática con ideas de la estadística, la probabilidad y la optimización.\n",
        "\n",
        "El objetivo del aprendizaje automático, la minería de datos o la inteligencia artificial es facilitarnos la vida, automatizar tareas y tomar mejores decisiones. \n",
        "\n",
        "En la programación ordinaria, el trabajo del programador consiste en escribir claramente cada una de las reglas que componen la tarea que intenta realizar. Para obtener los resultados, debe escribir todas las reglas que actúan sobre los datos.\n",
        "\n",
        "El aprendizaje automático invierte esta situación. En lugar de tener que escribir las reglas que componen una aplicación particular, podemos alimentar los datos y los resultados (o etiquetas) al modelo de aprendizaje automático, y su trabajo puede ser determinar el conjunto de reglas que mapean los datos y las etiquetas.\n",
        "\n",
        "Tomemos un ejemplo del mundo real. Si queremos crear una aplicación que, a partir de una foto de una persona, pueda determinar si lleva o no una mascarilla, podemos introducir un montón de imágenes de personas con y sin mascarilla en el modelo de aprendizaje automático, y el modelo puede aprender las reglas o patrones que relacionan las imágenes con el hecho de llevar o no una mascarilla.\n",
        "\n",
        "Incluso se puede ir más allá y utilizar esas reglas aprendidas para reconocer máscaras faciales en las imágenes que nunca fueron vistas por el modelo.\n",
        "\n",
        "Abordar un problema de reconocimiento imágenes con programación basada en reglas sería realmente un problema difícil. Tendrías que escribir mucho código que luego resultaría no funcionar típicamente porque tu programa se probará con diferentes tipos de máscaras y personas en varios escenarios y es casi imposible expresar eso en reglas. Mientras que con el aprendizaje automático, todo lo que necesitas es un montón de imágenes de personas con y sin máscaras, y ahí estás a pocos pasos de conseguir un reconocedor de máscaras facial eficaz."
      ],
      "metadata": {
        "id": "jnoRZGu0n_ks"
      }
    },
    {
      "cell_type": "markdown",
      "source": [
        "# $\\color{steelblue}{\\textsf{Problemas que pueden ser abordados mediante el aprendizaje automático}}$"
      ],
      "metadata": {
        "id": "7T2dxnpl-nOj"
      }
    },
    {
      "cell_type": "markdown",
      "source": [
        "El aprendizaje automático ha transformado muchos sectores, desde la banca, la fabricación, el streaming, los vehículos autónomos, la agricultura, etc. De hecho, la mayoría de los productos y servicios tecnológicos que utilizamos a diario poseen algún tipo de algoritmo de aprendizaje automático en su interior.\n",
        "\n",
        "Estos son los casos de uso más comunes del aprendizaje automático:\n",
        "\n",
        "* **Detección de fraudes**: Los bancos y otras organizaciones financieras pueden utilizar el aprendizaje automático para detectar fraudes en tiempo real.\n",
        "\n",
        "* **Predicción del reembolso de préstamos**: Los bancos también pueden utilizar los datos históricos de sus clientes para predecir si serán capaces de devolver los préstamos antes de concedérselos.\n",
        "\n",
        "* **Diagnóstico de enfermedades y predicción de la tasa de supervivencia**: El aprendizaje automático está encontrando cada vez más su valor en la medicina. Puede ayudar a los profesionales de la medicina a diagnosticar enfermedades en un puñado de minutos. Los profesionales de la medicina también pueden utilizar el aprendizaje automático para predecir la probabilidad o el curso de una enfermedad o la tasa de supervivencia (pronóstico).\n",
        "\n",
        "* **Detección de defectos en la industria**: Algunas empresas de fabricación utilizan la visión artificial para inspeccionar los defectos de los productos, lo que en última instancia permite acelerar el proceso de producción, automatizar la tarea de inspección y reducir el coste y la carga de trabajo humano. Puede obtener más información sobre la inspección visual en 2020 State of AI-Based Machine Vision by Landing AI.\n",
        "\n",
        "* **Predicción de bajas**: Las organizaciones que prestan algunos tipos de servicios pueden utilizar el aprendizaje automático para predecir si es probable que un determinado cliente abandone el servicio o cancele la suscripción. Esto puede ayudar a la organización a mejorar las experiencias de los clientes para retenerlos.\n",
        "\n",
        "* **Detección de spam**: Casi todos los proveedores de correo electrónico, como Gmail o Outlook, tienen la capacidad de detectar el spam de todos los correos electrónicos entrantes para proteger a los usuarios de promociones falsas y estafas.\n",
        "\n",
        "* **Vehículos autónomos**: Los vehículos autónomos actuales, como los coches de autoconducción, utilizan sistemas de aprendizaje automático y aprendizaje profundo para navegar por las carreteras. Utilizando la visión por ordenador, pueden ser capaces de detectar a los peatones y los semáforos, así como las señales y otros objetos circundantes.\n",
        "\n",
        "* **Clasificación de textos o documentos**: Esto incluye problemas como la asignación de un tema de un texto o un documento, o determinar automáticamente si el contenido de una página web es inapropiado o demasiado explícito.\n",
        "\n",
        "* **Procesamiento del lenguaje natural (PNL)**: La mayoría de las tareas de este campo, como el etiquetado parte del habla, el reconocimiento de entidades con nombre, el análisis sintáctico libre de contexto o el análisis sintáctico de dependencias, se plantean como problemas de aprendizaje. En estos problemas, las predicciones admiten cierta estructura. Por ejemplo, en el etiquetado de partes del discurso, la predicción de una frase es una secuencia de etiquetas de parte del discurso que etiquetan cada palabra. En el análisis sintáctico libre de contexto la predicción es un árbol. Se trata de ejemplos de problemas de aprendizaje más ricos, conocidos como problemas de predicción estructurada.\n",
        "\n",
        "* **Aplicaciones de procesamiento del habla**: Esto incluye el reconocimiento del habla, la síntesis del habla, verificación de hablantes, identificación de hablantes, así como subproblemas como el modelado del lenguaje y el modelado acústico.\n",
        "\n",
        "* **Aplicaciones de visión por ordenador**: Incluye el reconocimiento de objetos, la identificación de objetos, reconocimiento de objetos, detección de rostros, reconocimiento óptico de caracteres (OCR), recuperación de imágenes basada en el contenido, o la estimación de la postura.\n",
        "\n",
        "* **Aplicaciones de biología computacional**: Incluye la predicción de la función de las proteínas, la identificación de sitios clave, o el análisis de redes de genes y proteínas.\n",
        "\n",
        "Hay muchas más aplicaciones del aprendizaje automático y la lista podría continuar. Por ejemplo, una determinada agencia de publicidad puede utilizar el aprendizaje automático para conocer el tipo de cosas que interesan a sus visitantes y puede utilizar los resultados para colocar los anuncios pertinentes en el sitio web. Lo mismo ocurre con servicios de streaming como YouTube y Netflix. Estos servicios utilizan el aprendizaje automático para sugerir los mejores medios a sus clientes en función de sus intereses.\n",
        "\n"
      ],
      "metadata": {
        "id": "h9KvLx_j7Y32"
      }
    },
    {
      "cell_type": "markdown",
      "source": [
        "# $\\color{steelblue}{\\textsf{Cuando usar y no usar el aprendizaje automático}}$"
      ],
      "metadata": {
        "id": "aDF2G7q7CUkh"
      }
    },
    {
      "cell_type": "markdown",
      "source": [
        "El aprendizaje automático es una tecnología increíble y ha demostrado muchos éxitos en la resolución de diversos problemas del mundo real. Sin embargo, como cualquier otra tecnología, el aprendizaje automático no es adecuado para resolver todo tipo de problemas. Por lo tanto, es igualmente importante saber cuándo y cuándo no utilizar el aprendizaje automático.\n",
        "\n",
        "¿Cuándo utilizar el aprendizaje automático? El aprendizaje automático es preferible cuando se abordan:\n",
        "\n",
        "* Problemas que son demasiado complejos para ser resueltos por la programación ordinaria. Para este tipo de problemas, probablemente sea seguro probar el aprendizaje automático. No hay forma de escribir todas las reglas que se pueden utilizar para reconocer rostros o detectar correos electrónicos de spam con precisión, por ejemplo.\n",
        "\n",
        "* Problemas que implican el razonamiento visual y la comprensión del lenguaje, como el reconocimiento de imágenes, el reconocimiento del habla, la traducción automática, etc. Como veremos más adelante, los problemas de percepción a gran escala o los problemas visuales y de lenguaje suelen ser manejados por sistemas de aprendizaje profundo.\n",
        "\n",
        "* Problemas que cambian rápidamente y cuyas características cambian con el tiempo, y es necesario que el sistema siga funcionando bien. El aprendizaje automático es adecuado para este tipo de problemas porque los algoritmos de aprendizaje automático pueden reentrenarse con nuevos datos.\n",
        "\n",
        "* Los problemas que son claros y tienen objetivos sencillos, como una pregunta de sí/no o la predicción de un único número continuo, como la cantidad de producto que probablemente se consumirá en un tiempo determinado. \n",
        "\n",
        "\n",
        "Dicho esto, es posible que no utilice el aprendizaje automático cuando:\n",
        "\n",
        "* Quieres que las predicciones hechas por tu modelo sean totalmente explicables. Esto se debe a que la mayoría de los modelos de aprendizaje automático se consideran cajas negras.\n",
        "No tienes datos fiables para el problema que intentas resolver. Un ejemplo sencillo es tratar de utilizar el aprendizaje automático para predecir las acciones. Los datos del mercado de valores son poco fiables y pueden cambiar en cuestión de segundos sin ninguna razón lógica, por lo que es bastante difícil que un modelo aprenda algunos patrones útiles a partir de esa falta de fiabilidad.\n",
        "\n",
        "* Puede resolver su problema con programación ordinaria o con métodos heurísticos simples.\n",
        "\n",
        "* Quieres una solución que nunca necesite ser actualizada. Las predicciones realizadas por los modelos de aprendizaje automático decaen con el tiempo, por lo que si no está preparado para actualizar los datos y volver a entrenar los modelos con frecuencia, es posible que tenga que considerar técnicas de aprendizaje no automático.\n",
        "\n",
        "El aprendizaje automático sigue transformando cosas que la gente nunca pensó y con su vibrante comunidad en línea, seguiremos sorprendiéndonos, pero mientras tanto, es un cinturón de seguridad utilizarlo en problemas en los que la solución puede estar a tu favor porque los sistemas de aprendizaje automático son difíciles de mantener."
      ],
      "metadata": {
        "id": "X-z1IGyWCo1a"
      }
    },
    {
      "cell_type": "markdown",
      "source": [
        "# $\\color{steelblue}{\\textsf{Tipos de aprendizaje automático}}$"
      ],
      "metadata": {
        "id": "rD-KZXgwepP8"
      }
    },
    {
      "cell_type": "markdown",
      "source": [
        "En líneas generales, existen 5 tipos principales de sistemas de aprendizaje automático que son:\n",
        "\n",
        "* Aprendizaje supervisado\n",
        "* Aprendizaje no supervisado\n",
        "* Aprendizaje semisupervisado\n",
        "* Aprendizaje autosupervisado\n",
        "* Aprendizaje por refuerzo\n",
        "\n",
        "Vamos a repasar todos estos tipos para tener una comprensión de alto nivel de lo que realmente significan.\n",
        "\n",
        "## Aprendizaje supervisado\n",
        "\n",
        "La mayoría de las tareas de aprendizaje automático pertenecen al tipo de aprendizaje supervisado. Como su nombre indica, un modelo de aprendizaje supervisado se entrena con datos de entrada junto con algún tipo de orientación que podemos llamar etiquetas. En otras palabras, un modelo de aprendizaje supervisado asigna los datos de entrada (o X en muchos libros de texto) a las etiquetas de salida (y). Las etiquetas también se conocen como objetivos y actúan como una descripción de los datos de entrada.\n",
        "\n",
        "El ejemplo de reconocimiento de caras que hemos utilizado en las secciones anteriores es un buen ejemplo de aprendizaje supervisado. En general, hay dos tipos principales de problemas de aprendizaje supervisado, a saber\n",
        "\n",
        "* Los problemas de clasificación, en los que la tarea consiste en identificar una categoría determinada de entre numerosas categorías o simplemente elegir entre una serie de categorías. Otro ejemplo de tarea de clasificación es identificar si el correo electrónico entrante es spam o no basándose en el contenido del correo.\n",
        "\n",
        "* Problemas de regresión en los que el objetivo es predecir un valor continuo de algo. Un ejemplo clásico para esta categoría es predecir el precio del coche usado dadas sus características como la marca, la edad, el número de puertas, el número de asientos, el nivel de seguridad, el coste de mantenimiento, etc.\n",
        "\n",
        "Los algoritmos de aprendizaje supervisado incluyen algoritmos poco profundos como la regresión lineal y logística, los árboles de decisión, los bosques aleatorios, los K-Nearest Neighbors (KNN) y las máquinas de vectores de apoyo (SVM). Las redes neuronales pueden ser tanto supervisadas (como su uso para la clasificación de imágenes) como no supervisadas.\n",
        "\n",
        "Dicho esto, hay otras tareas avanzadas que caen en el tipo de aprendizaje supervisado como:\n",
        "\n",
        "* Subtitulación de imágenes, cuyo objetivo es predecir el título de una imagen determinada.\n",
        "* Detección de objetos, cuyo objetivo es reconocer el objeto en la imagen y dibujar el cuadro delimitador a su alrededor.\n",
        "* Segmentación de imágenes, cuyo objetivo es agrupar los píxeles que componen determinados objetos de la imagen.\n",
        "\n",
        "Algunas de estas tareas pueden incluir tanto la clasificación como la regresión. Tomemos como ejemplo la detección de objetos, una tarea de reconocimiento y localización de un objeto en una imagen: implica la clasificación (reconocer el objeto entre muchos otros objetos) y la regresión (predecir las coordenadas de los objetos en una imagen para hacer un cuadro delimitador)."
      ],
      "metadata": {
        "id": "7R4a7saMe233"
      }
    },
    {
      "cell_type": "markdown",
      "source": [
        "## Aprendizaje no supervisado\n",
        "\n",
        "Tenemos exclusivamente datos de entrenamiento no etiquetados y hacemos predicciones para todos los puntos no vistos. Dado que, en general, no se dispone de ningún ejemplo etiquetado, puede ser difícil evaluar cuantitativamente el rendimiento. Los algoritmos de aprendizaje no supervisado se utilizan principalmente para:\n",
        "\n",
        "* Agrupación de K-Medias y agrupación jerárquica.\n",
        "* Reducción de la dimensión y visualización de datos: Análisis de componentes principales (PCA), t-Distributed Stochastic Neighbor Embedding (t-SNE).\n"
      ],
      "metadata": {
        "id": "hfVLyelVd38e"
      }
    },
    {
      "cell_type": "markdown",
      "source": [
        "## Aprendizaje semisupervisado\n",
        "\n",
        "El aprendizaje semisupervisado se sitúa entre el aprendizaje supervisado y el no supervisado. En el aprendizaje semisupervisado, se etiqueta una pequeña parte de los datos de entrenamiento, mientras que el resto de los puntos de datos no se etiquetan.\n",
        "\n",
        "El etiquetado de los datos es uno de los mayores retos del aprendizaje automático. Porque requiere un humano cualificado, es caro y siempre existe la posibilidad de equivocarse en las etiquetas. Por lo tanto, tener una forma de utilizar los datos no etiquetados puede mejorar los resultados de una tarea concreta con una necesidad mínima de etiquetas y, en última instancia, reducir el tiempo y el coste que se necesitaría para etiquetar todos los datos de entrenamiento.\n",
        "\n",
        "El aprendizaje semisupervisado es más notable en los problemas que implican trabajar con conjuntos de datos masivos, como las búsquedas de imágenes en Internet, el reconocimiento de imágenes y audio, y la clasificación de páginas web. Como se puede imaginar, por ejemplo, ningún organismo que se encargue de la aburrida tarea de etiquetar millones de imágenes que se suben a diario a plataformas de medios sociales como Instagram. Otro ejemplo: Según sitefy, cada día se crean 252.000 nuevas páginas web. Como también puedes imaginar, no sería un buen uso del tiempo y los recursos asignar la tarea de etiquetar estos sitios web a alguien cuando el aprendizaje semisupervisado puede eliminar esos gastos generales."
      ],
      "metadata": {
        "id": "MGBi77Ecegch"
      }
    },
    {
      "cell_type": "markdown",
      "source": [
        "## Aprendizaje autosupervisado\n",
        "\n",
        "El aprendizaje autosupervisado es uno de los tipos de aprendizaje automático más emocionantes y más aplicables en la visión por ordenador y la robótica. Mientras que el aprendizaje semisupervisado utiliza una pequeña porción de datos etiquetados, el aprendizaje autosupervisado utiliza datos enteros sin etiquetar y no requiere anotaciones manuales, lo que elimina la necesidad de los humanos en el proceso.\n",
        "\n",
        "La motivación del aprendizaje autosupervisado es aprovechar la gran cantidad de datos sin etiquetar. La idea principal del aprendizaje autosupervisado es generar las etiquetas a partir de datos no etiquetados, según la estructura o las características de los propios datos, y luego entrenar sobre estos datos no supervisados de forma supervisada."
      ],
      "metadata": {
        "id": "Io4Uq-t1eQKC"
      }
    },
    {
      "cell_type": "markdown",
      "source": [
        "## Aprendizaje por refuerzo\n",
        "\n",
        "El aprendizaje por refuerzo es un tipo especial de aprendizaje automático que se aplica sobre todo en robótica y juegos. En el aprendizaje por refuerzo, un sistema de aprendizaje llamado agente puede percibir el entorno, realizar algunas acciones y ser recompensado o penalizado en función de su rendimiento. El objetivo principal del agente es acumular tantas recompensas como sea posible. El agente aprende la mejor estrategia (política) necesaria para obtener la mayor recompensa.\n",
        "\n",
        "El aprendizaje por refuerzo tiene algunos de los momentos más históricos de la IA. En 2016, DeepMind AlphaGo, un sistema de aprendizaje por refuerzo ganó a Lee Sedol en el Google DeepMind Challenge Match. El Go es un complejo juego de mesa que requiere intuición, pensamiento creativo y estratégico. Y Lee era uno de los jugadores de Go de clase mundial. \n",
        "\n",
        "Para muchos de nosotros, puede que no saquemos el máximo partido al aprendizaje por refuerzo, normalmente debido a la limitación de los recursos y la aplicabilidad, pero es algo poderoso para aquellos que pueden permitírselo, sobre todo empleándolo en robótica y juegos.\n",
        "\n",
        "En estos amteriales nos centraremos sobre todo en el aprendizaje supervisado y no supervisado.\n"
      ],
      "metadata": {
        "id": "WK1HUAxdeoqG"
      }
    },
    {
      "cell_type": "markdown",
      "source": [
        "# $\\color{steelblue}{\\textsf{Conceptos básicos en un problema de aprendizaje automático}}$"
      ],
      "metadata": {
        "id": "b0_AItS2fPH1"
      }
    },
    {
      "cell_type": "markdown",
      "source": [
        "\n",
        "\n",
        "A continuación, utilizaremos el problema de la detección de spam como ejemplo práctico para ilustrar algunas definiciones básicas y describir el uso y la evaluación de los algoritmos de  aprendizaje automático en la práctica, incluyendo sus diferentes etapas. \n",
        "\n",
        "La detección de spam es el problema de aprender a clasificar automáticamente los mensajes de correo electrónico como spam o no spam. A continuación se enumeran los conceptos fundamentales del aprendizaje automático:\n",
        "\n",
        "* **Muestras**: Elementos o instancias de datos utilizados para el aprendizaje o la evaluación. En nuestro problema de spam, estos ejemplos corresponden a la colección de mensajes de utilizaremos para el aprendizaje y las pruebas.\n",
        "\n",
        "* **Características**: Conjunto de atributos, a menudo representados como un vector, asociados a una muestra. En el caso de los mensajes de correo electrónico, algunas características relevantes pueden ser la longitud del mensaje, el nombre del remitente, diversas características del encabezado, la presencia de ciertas palabras clave en el cuerpo del mensaje, etc.\n",
        "\n",
        "* **Etiquetas**: Valores o categorías asignadas a las muestras. En los problemas de clasificación las muestras se asignan a categorías específicas, por ejemplo, las categorías de spam y no spam en nuestro problema de clasificación binaria. En la regresión, los elementos se asignan etiquetas de valor real.\n",
        "\n",
        "* **Hiperparámetros**: Parámetros libres que no están determinados por el algoritmo de aprendizaje, sino que se especifican como entradas para el algoritmo de aprendizaje.\n",
        "\n",
        "* **Muestra de entrenamiento**: Muestras utilizados para entrenar un algoritmo de aprendizaje. En nuestro problema de spam, la muestra de entrenamiento consiste en un conjunto de ejemplos de correo electrónico junto con sus etiquetas asociadas. La muestra de entrenamiento varía en función de los distintos escenarios de aprendizaje. \n",
        "\n",
        "* **Muestra de validación**: Muestras utilizados para ajustar los parámetros de un algoritmo de aprendizaje cuando se trabaja con datos etiquetados. La muestra de validación se utiliza para seleccionar los valores valores adecuados para los parámetros libres del algoritmo de aprendizaje (hiperparámetros).\n",
        "\n",
        "* **Muestra de test**: Muestras utilizadas para evaluar el rendimiento de un algoritmo de aprendizaje. La muestra de test está separada de los datos de entrenamiento y validación y no está disponible en la fase de aprendizaje. En el problema del spam, la muestra de test consiste en una serie de muestras de correo electrónico para los que el algoritmo de aprendizaje debe predecir etiquetas basándose en las características. Estas predicciones se comparan con las etiquetas de la muestra de test para medir el rendimiento del algoritmo.\n",
        "\n",
        "* **Función de pérdida**: Función que mide la diferencia, o pérdida, entre una etiqueta predicha y una etiqueta verdadera.  \n",
        "\n",
        "* **Conjunto de hipótesis**: Conjunto de funciones que asignan características (vectores de características) al conjunto de etiquetas. En nuestro ejemplo, puede ser un conjunto de funciones que asignan las características del correo electrónico a spam o no spam. \n"
      ],
      "metadata": {
        "id": "LFGUgNQyfCQn"
      }
    },
    {
      "cell_type": "markdown",
      "source": [
        "# $\\color{steelblue}{\\textsf{Flujo de trabajo en el aprendizaje automático}}$"
      ],
      "metadata": {
        "id": "BMqgx79j9ACv"
      }
    },
    {
      "cell_type": "markdown",
      "source": [
        "Aunque cada problema de aprendizaje automático es único, todos siguen un flujo de trabajo similar. En esta sección, aprenderemos a abordar los problemas de aprendizaje automático de forma sistemática.\n",
        "\n",
        "En general, el flujo de trabajo típico de un proyecto de aprendizaje automático consiste en\n",
        "\n",
        "* Definir y formular un problema\n",
        "* Recoger datos\n",
        "* Establecer una línea de base\n",
        "* Análisis exploratorio de datos (EDA)\n",
        "* Preparación de los datos\n",
        "* Selección y entrenamiento de un modelo\n",
        "* Realización de un análisis de errores y mejora de un modelo\n",
        "* Evaluación de un modelo\n",
        "* Implantación de un modelo\n",
        "\n",
        "Vamos a hablar brevemente de cada paso.\n",
        "\n",
        "## Definir un problema\n",
        "\n",
        "Todo comienza aquí. La definición del problema es el paso importante e inicial en cualquier proyecto de aprendizaje automático. Aquí es donde te aseguras de entender el problema realmente bien. Entender el problema te dará las intuiciones adecuadas sobre los siguientes pasos a seguir, como los algoritmos de aprendizaje adecuados, etc. Pero espera, ¿qué significa entender el problema?\n",
        "\n",
        "Entender el problema consiste en profundizar en los detalles del problema en cuestión y hacer las preguntas adecuadas. En primer lugar, es importante reducir el problema hasta conseguir un objetivo sencillo y bien definido. He aquí ejemplos de objetivos sencillos: Clasificar productos en diferentes categorías, predecir el precio de un coche usado dadas sus características (como la marca, la edad, etc...), reconocer si una persona lleva una máscara facial, dividir a los clientes en diferentes grupos que comparten comportamientos similares, etc... Como puede ver, el objetivo puede indicar si el problema es de clasificación, de regresión o de agrupación...\n",
        "\n",
        "En esta fase, evita las palabras vagas. Cuanto más simple sea la formulación del problema, mejor serán las cosas en el futuro. También vale la pena preguntarse si el proyecto debe seguir adelante. La mayoría de los problemas no requieren aprendizaje automático.\n",
        "\n",
        "La definición del problema también va más allá de determinar la meta y el objetivo del proyecto para pensar en los datos que se necesitarán. Los modelos de aprendizaje automático se basan en los datos, y los mejores modelos provienen de mejores datos. ¿Tienes datos que contengan las cosas que quieres predecir? Los modelos no son cosas mágicas, son funciones matemáticas que toman los datos junto con las etiquetas, y determinan los patrones que se pueden utilizar para hacer predicciones sobre los datos no vistos. Si los datos no contienen información significativa relevante para lo que se quiere predecir, se obtendrán predicciones pobres.\n",
        "\n",
        "Después de entender el problema y tener una idea de los datos que se quieren obtener, el siguiente paso es recopilarlos.\n",
        "\n",
        "\n",
        "\n",
        "\n"
      ],
      "metadata": {
        "id": "OWdVNgkt9ePX"
      }
    },
    {
      "cell_type": "markdown",
      "source": [
        "## Recogida de datos\n",
        "\n",
        "Esta suele ser la siguiente etapa tras la formulación de un problema. Antes de hablar de la recogida de datos, vamos a entender el significado de los datos. Según wikipedia, \"los datos son un conjunto de valores de variables cualitativas o cuantitativas sobre una o varias personas u objetos\".\n",
        "\n",
        "Hay 2 tipos principales de datos que son:\n",
        "\n",
        "* Datos estructurados que se organizan en formato tabular u hoja de cálculo. Ejemplo de datos tabulares son los registros de clientes, las ventas de coches, etc.\n",
        "\n",
        "* Datos no estructurados, como imágenes, textos, sonidos y vídeos. Los datos no estructurados no están organizados como los anteriores.\n",
        "\n",
        "Hoy en día, hay muchos conjuntos de datos de código abierto en plataformas como Kaggle, conjuntos de datos de Google, UCL y sitios web gubernamentales. Así que, si estás resolviendo un problema que alguien resolvió antes, es muy probable que lo encuentres en algún lugar de esas plataformas, o en otras fuentes públicas.\n",
        "\n",
        "Dicho esto, hay veces que tendrás que recoger tus propios datos, especialmente si estás resolviendo un problema que nadie ha resuelto antes. En este caso, tenga en cuenta el tiempo que tendrá que dedicar a la recogida de datos y el coste. Tampoco es necesario esperar a tener los puntos de datos deseados para empezar. Adopte el desarrollo de ML desde el principio para que pueda aprender si (realmente) necesita más datos. \n",
        "\n",
        "Además, al recopilar los datos, es mejor la calidad que la cantidad. Hay veces que los datos pequeños pero buenos pueden superar a los grandes datos pobres. La cantidad de datos que necesites va a depender del problema que estés resolviendo y de su alcance, pero sea cual sea el problema, el objetivo de recopilar buenos datos es el camino a seguir. "
      ],
      "metadata": {
        "id": "OU8HwxFXeyHI"
      }
    },
    {
      "cell_type": "markdown",
      "source": [
        "## Establecer una línea de base\n",
        "\n",
        "Sin un punto de referencia, no sabrá cómo evaluar sus resultados correctamente. Un punto de referencia es el modelo más sencillo que puede resolver su problema con unos requisitos mínimos. No tiene por qué ser un modelo. Puede ser una aplicación de código abierto existente, un análisis estadístico o las intuiciones que se obtienen de los datos de un vistazo.\n",
        "\n",
        "El objetivo principal de una línea de base es servir de punto de referencia al comparar el modelo real con la línea de base. El objetivo final es superar una línea de base, y a veces, si no puedes superarla, puede significar que el proyecto no merece la pena, o que la línea de base puede ser todo lo que necesitas."
      ],
      "metadata": {
        "id": "CmwWyMUPfVRD"
      }
    },
    {
      "cell_type": "markdown",
      "source": [
        "## Análisis exploratorio de datos (AED)\n",
        "\n",
        "Antes de manipular los datos, es muy importante conocer el conjunto de datos. Esto puede pasarse por alto, pero hacerlo bien le ayudará a conocer las estrategias eficaces que debe aplicar al limpiar los datos.\n",
        "\n",
        "Revisa algunos valores, traza algunas características e intenta comprender la correlación entre ellas. Si el trabajo está relacionado con la visión, visualiza algunas imágenes, detecta lo que falta en ellas. ¿Son lo suficientemente variadas? ¿Qué tipos de escenarios de imágenes se pueden añadir? ¿O cuáles son las imágenes que pueden inducir a error al modelo?\n",
        "\n",
        "Aquí hay otras cosas que querrías inspeccionar en los datos:\n",
        "\n",
        "* Valores y muestras duplicadas\n",
        "* Datos corruptos o con formatos no soportados (ej.: tener una imagen de .txt y con 0 Kilobytes)\n",
        "* Desequilibrios de clase\n",
        "* Sesgos\n",
        "\n",
        "Antes de realizar el AED, se deben dividir los datos en el conjunto de entrenamiento, el de validación y el de prueba para evitar la fuga de datos. El conjunto de entrenamiento se utiliza para entrenar el modelo, el conjunto de validación se utiliza para evaluar el rendimiento del modelo durante el entrenamiento para sugerir mejoras, y el conjunto de prueba es para evaluar el rendimiento final y mejora del modelo. Los conjuntos de validación y de prueba deben tener la misma distribución estadística.\n",
        "\n",
        "Además, para evitar la fuga de datos, no se debe tocar el conjunto de prueba en el AED o en cualquier lugar antes del entrenamiento del modelo."
      ],
      "metadata": {
        "id": "ViyuUTsMfpmC"
      }
    },
    {
      "cell_type": "markdown",
      "source": [
        "## Preprocesamiento de datos\n",
        "\n",
        "El procesamiento de datos es quizás la mayor parte de cualquier proyecto de aprendizaje automático. Existe la idea de que los científicos de datos y los ingenieros de aprendizaje automático pasan más del 80% de su tiempo preparando los datos y esto tiene sentido porque los datos del mundo real son desordenados.\n",
        "\n",
        "En este paso, es donde se convierten los datos en bruto para que pasen a un formato que pueda ser aceptado por los algoritmos de aprendizaje automático.\n",
        "\n",
        "El preprocesamiento de datos es difícil porque hay diferentes tipos de datos y la forma de procesar uno es diferente a la otra. Por ejemplo, en los datos estructurados, la forma de procesar las características numéricas va a ser diferente a las características categóricas. También en los datos no estructurados, la forma de manipular las imágenes va a ser diferente a la forma de manipular los textos o los sonidos.\n",
        "\n",
        "Como las siguientes partes cubrirán las implementaciones prácticas de los pasos típicos de preprocesamiento de datos, vamos a ser generales sobre las cosas que probablemente va a tratar mientras manipula las características:\n",
        "\n",
        "* **Imputación de valores perdidos**: Los valores perdidos pueden rellenarse, eliminarse o dejarse como están. Hay varias estrategias para los valores perdidos, como la media, la mediana, las imputaciones frecuentes, el relleno hacia atrás y hacia delante y las imputaciones iterativas. La técnica de imputación adecuada depende del problema y del conjunto de datos. Con la excepción de los modelos basados en árboles, la mayoría de los modelos de aprendizaje automático no aceptan valores perdidos.\n",
        "\n",
        "* **Codificación de características categóricas**: Las características categóricas son todos los tipos de características que tienen valores categóricos. Por ejemplo, una característica de género que tiene los valores masculino y femenino es una característica categórica. Usted querrá codificar estos tipos de características. Las técnicas para codificarlas son la codificación de etiquetas, en la que puede asignar 0 a Hombre y 0 a Mujer, o la codificación en caliente, en la que puede obtener las representaciones binarias (0s y 1s) en una matriz en caliente. Esto se verá más adelante en la práctica.\n",
        "\n",
        "* **Escalar las características numéricas**: La mayoría de los modelos de aprendizaje automátio funcionan bien cuando los valores de entrada se escalan a valores pequeños porque pueden entrenar y converger más rápido de lo que lo harían de otra manera. Hay dos técnicas principales de escalado que son la normalización y la estandarización. La normalización reescala las características a valores entre 0 y 1, mientras que la estandarización reescala las características para que tengan una media de 0 y una desviación estándar unitaria. Si sabe que sus datos tienen una distribución normal o gausiana, la estandarización puede ser una buena opción. De lo contrario, la normalización funcionará bien en muchos casos.\n",
        "\n",
        "En muchos libros de texto y cursos, el preprocesamiento de datos también se denomina limpieza de datos o preparación de datos. La ingeniería de características o definición de nuevas variables  también forma parte del preprocesamiento de datos. La ingeniería de características es una tarea creativa y requiere un conocimiento adicional sobre los datos y el problema, ya que implica la creación de nuevas características a partir de las existentes."
      ],
      "metadata": {
        "id": "wGWORczAhMtq"
      }
    },
    {
      "cell_type": "markdown",
      "source": [
        "## Seleccionar y entrenar un modelo\n",
        "\n",
        "Seleccionar, crear y entrenar un modelo de aprendizaje automático es la parte más pequeña de cualquier flujo de trabajo típico de aprendizaje automático. Hay diferentes tipos de modelos, pero en líneas generales, la mayoría de ellos entran en estas categorías: modelos lineales como la regresión lineal y logística, modelos basados en árboles como los árboles de decisión, modelos de conjunto como los bosques aleatorios y, por último, las redes neuronales.\n",
        "\n",
        "Dependiendo de su problema, puede elegir cualquier modelo relevante de estas categorías o probar muchos de ellos. Sin embargo, vale la pena mencionar que conseguir un modelo que pueda resolver en última instancia un problema determinado no es un escenario sencillo. Hay que experimentar con diferentes modelos para conseguir uno que funcione para el problema y conjunto de datos específico con el que se está trabajando.\n",
        "\n",
        "Para reducir la curva de modelado, aquí hay algunas cosas que puede considerar al elegir un modelo de aprendizaje automático:\n",
        "\n",
        "* El alcance del problema: El alcance o el tipo de su problema puede dar una fuerte señal sobre qué algoritmo de aprendizaje utilizar. Pongamos un ejemplo: Si va a crear un clasificador de imágenes, las redes neuronales (concretamente las redes neuronales convolucionales) podrían ser su algoritmo.\n",
        "\n",
        "* El tamaño del conjunto de datos: Los modelos lineales tienden a funcionar bien en problemas de datos pequeños, mientras que los modelos de conjunto y las redes neuronales pueden funcionar bien cuando se les da una gran cantidad de datos.\n",
        "\n",
        "* El nivel de interpretabilidad: Si quiere que las predicciones de su modelo sean explicables, las redes neuronales pueden no ser útiles. Los modelos basados en árboles, como los árboles de decisión, pueden ser explicables en comparación con otros modelos.\n",
        "\n",
        "* Tiempo de entrenamiento: Los modelos complejos (redes neuronales y modelos de conjunto) tardan demasiado en entrenarse y, por tanto, agotan los recursos informáticos. En cambio, los modelos lineales pueden entrenarse más rápidamente.\n",
        "\n",
        "Como puede ver, hay un compromiso durante la selección del modelo. Si quiere capacidad de explicación, elija modelos que puedan proporcionársela, la mayoría de los modelos no lo hacen. Si tienes un conjunto de datos pequeño o te preocupa el tiempo de entrenamiento, lo mismo, un modelo adecuado para ti."
      ],
      "metadata": {
        "id": "ZA1Z1xNmiNwE"
      }
    },
    {
      "cell_type": "markdown",
      "source": [
        "## Análisis de errores\n",
        "\n",
        "El análisis de los errores nos debe guiar en el proceso de mejora de los resultados del modelo. La mejora puede provenir de los datos o del modelo.\n",
        "\n",
        "Una de las mejores maneras de realizar el análisis de errores es trazar la curva de aprendizaje y tratar de notar dónde está fallando el modelo y cuál podría ser la razón, así como las acciones correctas que puede tomar para reducir los errores.\n",
        "\n",
        "Para mejorar la parte del modelo, puede probar diferentes valores de configuración del modelo o hiperparámetros. También puede probar diferentes modelos para ver uno que funcione bien. Pero además, un buen modelo viene de unos buenos datos, por lo que es importante dedicar tiempo a examinar los resultados del modelo con respecto a los datos de entrada.\n",
        "\n",
        "Estas son las preguntas que puedes hacerte de forma iterativa en el proceso de análisis de errores:\n",
        "\n",
        "* ¿El modelo va mal en todas las clases o se trata de una clase específica?\n",
        "* ¿Se debe a que no hay suficientes puntos de datos para esa clase en particular en comparación con otras clases?\n",
        "* ¿Hay compensaciones y límites en cuanto a lo que se puede hacer para reducir los errores?. ¿Hay margen de mejora?\n",
        "\n",
        "A menudo, las mejoras no vendrán de afinar el modelo, sino de dedicar tiempo a aumentar el número de muestras de entrenamiento y la calidad de los datos. Para mejorar los datos, se pueden crear datos artificiales (también conocidos como aumento de datos). Esto funcionará bien la mayoría de las veces. Todo el análisis de errores es un proceso iterativo, hasta conseguir un modelo adecuado.\n",
        "\n"
      ],
      "metadata": {
        "id": "ibERms3Akh7H"
      }
    },
    {
      "cell_type": "markdown",
      "source": [
        "## Evaluación del modelo\n",
        "\n",
        "Cuando se ha seleccionado un modelo que funciona, es el momento de evaluarlo con la muestra de validación. Si el modelo ofrece buenos resultados es el momento de pasar a la fase de test."
      ],
      "metadata": {
        "id": "E-l7aS4pleN0"
      }
    },
    {
      "cell_type": "markdown",
      "source": [
        "## Despliegue de un modelo\n",
        "\n",
        "El despliegue del modelo es la última parte de este flujo de trabajo. Cuando todos los pasos anteriores han ido bien, y se ha alcanzado un modelo con buenos resultados en la muestra de test, el siguiente paso será compartir el modelo para que los usuarios puedan empezar a hacer peticiones y obtener predicciones o servicios mejorados. "
      ],
      "metadata": {
        "id": "0ckE70zFm7eR"
      }
    },
    {
      "cell_type": "markdown",
      "source": [
        "# $\\color{steelblue}{\\textsf{Métricas de evaluación}}$"
      ],
      "metadata": {
        "id": "BZ-ub4-loG08"
      }
    },
    {
      "cell_type": "markdown",
      "source": [
        "Las métricas de evaluación se utilizan para medir el rendimiento de los modelos de aprendizaje automático. Al principio de esta introducción al aprendizaje automático, vimos que la mayoría de los problemas son de regresión y de clasificación, y que se evalúan de forma diferente. "
      ],
      "metadata": {
        "id": "OOxNxLr8oKTP"
      }
    },
    {
      "cell_type": "markdown",
      "source": [
        "## Métricas para problemas de regresión\n",
        "\n",
        "En las tareas de regresión, el objetivo es predecir el valor continuo correspondiente al target de problema. La diferencia entre el valor real ($y$) y el valor predicho ($\\hat{y}$) se llama error.\n",
        "\n",
        "$$Error = y - \\hat{y}$$\n",
        "\n",
        "El cuadrado del error sobre todas las muestras se llama Error Medio Cuadrado (MSE) y se define como:\n",
        "\n",
        "$$MSE = \\frac{\\sum_{i=1}^n (y_i - \\hat{y}_i)^2}{n}$$\n",
        "\n",
        "Si se toma la raíz cuadrada del error medio al cuadrado se obtiene el error medio al cuadrado (RMSE). El RMSE es la métrica de regresión más utilizada.\n",
        "\n",
        "$$RMSE = \\sqrt{\\frac{\\sum_{i=1}^n (y_i - \\hat{y}_i)^2}{n}}$$\n",
        "\n",
        "Hay veces que se trabaja con conjuntos de datos que contienen valores atípicos. Una métrica adecuada para este tipo de conjuntos de datos es el Error Medio Absoluto (MAE) que se define como:\n",
        "\n",
        "$$MAE = \\frac{\\sum_{i=1}^n |y_i - \\hat{y}_i|}{n}$$"
      ],
      "metadata": {
        "id": "4vimz9oyouvA"
      }
    },
    {
      "cell_type": "markdown",
      "source": [
        "## Métricas para problemas de clasificación\n",
        "\n",
        "En los problemas de clasificación, el objetivo es predecir las categorías/clase.\n",
        "\n",
        "La exactitud (accuracy) es la métrica más utilizada. La exactitud muestra la capacidad del modelo para hacer predicciones correctas. Tomemos un ejemplo, en un clasificador de caballos y humanos. Si tiene 250 imágenes de entrenamiento para caballos y el mismo número para humanos, y el modelo puede predecir con confianza 400 imágenes, entonces la precisión es 400/500 = 0,8, por lo que su modelo tiene un 80% de exactitud.\n",
        "\n",
        "La exactitud es simplemente un indicador de cómo es tu modelo a la hora de hacer predicciones correctas y sólo será útil si tienes un conjunto de datos equilibrado (como si tuviéramos 250 imágenes para caballos y 250 imágenes para humanos).\n",
        "\n",
        "Cuando tenemos un conjunto de datos sesgado o cuando hay desequilibrios, necesitamos una perspectiva diferente sobre cómo evaluar el modelo. Por ejemplo, si tenemos 450 imágenes de caballos y 50 imágenes de humanos, hay una probabilidad del 90% (450/500) de que el caballo se prediga correctamente porque el conjunto de datos está dominado por los caballos. ¿Pero qué pasa con los humanos? Es obvio que el modelo tendrá dificultades para predecirlos correctamente.\n",
        "\n",
        "Aquí es donde introducimos otras métricas que pueden ser mucho más útiles que la exactitud, como la precisión (precision), el recuerdo (recall) y la puntuación F1 (f1 score).\n",
        "\n",
        "La precisión muestra el porcentaje de las predicciones positivas que son realmente positivas. La precisión responde a la siguiente pregunta: ¿Qué proporción de identificaciones positivas fue realmente correcta?\n",
        "\n",
        "Por otro lado, el recuerdo muestra el porcentaje de las muestras positivas reales que se clasificaron correctamente. Responde a la pregunta: ¿Qué proporción de positivos reales se identificó correctamente?\n",
        "\n",
        "Existe un equilibrio entre la precisión y la recuperación. A menudo, el aumento de la precisión disminuye la recuperación y viceversa. Para simplificar las cosas, combinamos estas dos métricas en una única métrica llamada puntuación F1.\n",
        "\n",
        "La puntuación F1 es la media armónica de la precisión y la recuperación, y muestra lo bueno que es el modelo a la hora de clasificar todas las clases sin tener que equilibrar la precisión y la recuperación. Si la precisión o la recuperación son muy bajas, la puntuación F1 también lo será.\n",
        "\n",
        "Tanto la exactitud como la precisión y la recuperación pueden calcularse fácilmente utilizando una matriz de confusión, que es una tabla que muestra el número de predicciones correctas e incorrectas realizadas por un clasificador en todas las clases disponibles. De forma más intuitiva, una matriz de confusión se compone de 4 elementos principales: \n",
        "\n",
        "* Verdaderos positivos (TP): Número de muestras que se clasifican correctamente como positivas, y su etiqueta real es positiva.\n",
        "\n",
        "* Falsos positivos (FP): Número de muestras que se clasifican incorrectamente como positivas, cuando en realidad su etiqueta real es negativa.\n",
        "\n",
        "* Verdaderos negativos (TN): Número de muestras clasificadas correctamente como negativas, cuando su etiqueta real es negativa.\n",
        "\n",
        "* Falsos negativos (FN): Número de muestras clasificadas incorrectamente como negativas, cuando en realidad su etiqueta real es positiva.\n",
        "\n",
        "La matriz de confusión se puede expresar como (tomando como posibles valores de la respuesta los valores 0 y 1):\n",
        "\n",
        "|                     |       | **Valor** | **Predicho** |\n",
        "|---------------------|-------|--------------------|--------------|\n",
        "|                     |       |        **0**       |     **1**    |\n",
        "| **Valor** | **0** |         TN         |      FP      |\n",
        "| **Observado**       | **1** |         FN         |      TP      |\n",
        "\n",
        "\n",
        "Las metricas definidas se pueden obtener a partir de los elementos de la matriz de confusión como:\n",
        "\n",
        "$$$$\n",
        "\n",
        "$$Exactitud (A)= \\frac{TP + TN}{TP + TN + FP + FN}$$\n",
        "\n",
        "$$$$\n",
        "\n",
        "$$Precisión (P)= \\frac{TP}{TP + FP}$$\n",
        "\n",
        "$$$$\n",
        "\n",
        "$$Recuerdo (R)= \\frac{TP}{TP+FN}$$\n",
        "\n",
        "$$$$\n",
        "\n",
        "Un clasificador que no tiene falsos positivos tiene una precisión de 1, y un clasificador que no tiene falsos negativos tiene un recuerdo de 1. Idealmente, un clasificador perfecto tendrá la precisión y el recuerdo de 1.\n",
        "\n",
        "Podemos combinar la precisión y la recuperación para obtener otra métrica llamada Puntuación F1. La puntuación F1 es la media armónica de la precisión y la recuperación.\n",
        "\n",
        "$$f1 = \\frac{2*P*R}{P + R}$$\n",
        "\n"
      ],
      "metadata": {
        "id": "d0b-NPYGrW9w"
      }
    },
    {
      "cell_type": "markdown",
      "source": [
        "# $\\color{steelblue}{\\textsf{Retos de los sistemas de aprendizaje automático}}$\n",
        "\n",
        "Al igual que cualquier otra tecnología, el aprendizaje automático tiene desafíos. Lo que hace que el aprendizaje automático sea diferente al desarrollo normal de software es que implica datos y códigos (modelo). Cualquiera de ellos conlleva sus propios retos, y no suele haber formas claras de manejarlos.\n",
        "\n",
        "Los datos son el ingrediente principal del aprendizaje automático, y los mejores modelos son el resultado de mejores datos. Sin embargo, en el mundo real, los datos mejores son raros. La mayoría de los conjuntos de datos son desordenados. Requieren mucho tiempo de preparación y pueden resultar inútiles. Además, es posible que haya oído hablar del etiquetado de datos. El etiquetado de los datos es una tarea difícil, larga y costosa, y siempre hay posibilidades de que las etiquetas no coincidan. Incluso si se tienen buenos datos, se pueden obtener modelos pobres porque es muy fácil equivocarse durante el proceso de limpieza de datos. \n",
        "\n",
        "Dicho esto, los modelos tampoco son perfectos. Algunos modelos son costosos desde el punto de vista computacional. Además, tienden a ajustarse de forma insuficiente o excesiva a los datos de entrenamiento. El infraajuste y el sobreajuste merecen un tema propio, ya que son cosas a las que probablemente nos enfrentemos.\n",
        "\n",
        "Construir un modelo de aprendizaje automático que se ajuste bien a los datos de entrenamiento no es una tarea trivial. A menudo, en el entrenamiento inicial, el modelo se ajustará por debajo o por encima de los datos. Algunos modelos de aprendizaje automático lo llevan al extremo. Por ejemplo, cuando se entrenan árboles de decisión, es muy probable que se ajusten demasiado a los datos al principio.\n",
        "\n",
        "Hay un equilibrio entre el infraajuste y el sobreajuste, por lo que es importante entender la diferencia entre ambos y cómo manejar cada uno de ellos. Entender y manejar el underfitting y el overfitting es una tarea crítica en la diagonalización de los modelos de aprendizaje automático.\n",
        "\n",
        "**Infraajuste (bajo sesgo)**\n",
        "\n",
        "La infraadaptación se produce cuando el modelo obtiene un mal resultado con los datos de entrenamiento. Puede ser causado por el hecho de que el modelo es simple para los datos de entrenamiento o los datos no contienen las cosas que se están tratando de predecir. Los datos buenos tienen un alto poder de predicción, y los datos pobres tienen un bajo poder de predicción.\n",
        "\n",
        "Estas son algunas de las técnicas que se pueden utilizar para hacer frente a la infraadaptación:\n",
        "\n",
        "* Utiliza modelos complejos. Si utiliza modelos lineales, pruebe otros modelos complejos como los bosques aleatorios o las máquinas de vectores de apoyo. Por no hablar de las redes neuronales si se trata de datos no estructurados (imágenes, textos, sonidos)\n",
        "* Añade más datos de entrenamiento y utiliza buenas características. Las buenas características tienen un alto poder predictivo.\n",
        "* Reduzca la regularización. Si utiliza redes neuronales, aumente el número de épocas/iteraciones de entrenamiento. Si las épocas son muy pocas, el modelo puede no ser capaz de aprender las reglas subyacentes en los datos y, por tanto, no tendrá un buen rendimiento.\n",
        "\n",
        "**Sobreajuste (alta varianza)**\n",
        "\n",
        "La sobreadaptación es lo contrario de la inadaptación. Un modelo sobreajustado funcionará bien con los datos de entrenamiento, pero no funcionará bien cuando se le suministren datos nuevos (los datos que el modelo nunca vio).\n",
        "\n",
        "La sobreadaptación se debe a que el modelo es demasiado complejo para el conjunto de datos y los ejemplos de entrenamiento son escasos.\n",
        "\n",
        "Estas son las técnicas para manejar el sobreajuste:\n",
        "\n",
        "* Probar modelos sencillos o simplificar el modelo actual. Algunos algoritmos de aprendizaje automático pueden simplificarse. Por ejemplo, en las redes neuronales se puede reducir el número de capas o neuronas. También en los algoritmos clásicos, como las máquinas de vectores de apoyo, se pueden probar diferentes kernels, un kernel lineal es más sencillo que un kernel polinómico.\n",
        "* Encontrar más datos de entrenamiento.\n",
        "* Detener el entrenamiento temprano (también conocido como detención temprana)\n",
        "* Utilizar diferentes técnicas de regularización como el dropout (en las redes neuronales).\n",
        "\n",
        "Para resumir esto, es muy importante ser capaz de entender por qué el modelo no lo está haciendo bien. Si el modelo no funciona bien en los datos en los que se ha entrenado, sabremos que no se ajusta bien y sabremos qué hacer al respecto.\n",
        "\n",
        "Además, aparte de mejorar y ampliar los datos de entrenamiento, a menudo hay que ajustar los hiperparámetros para conseguir un modelo que pueda generalizar bien. Aunque hay técnicas que simplifican la búsqueda de hiperparámetros (como Grid search, Random search, Keras Tuner), es importante entender los hiperparámetros del modelo que estás utilizando para poder conocer su espacio de búsqueda adecuado.\n",
        "\n",
        "Hasta aqui la introducción al aprendizaje automático. Quizás algunos términos o conceptos no resultan familiares, pero a medida que vayamos desarrollando los contenidos y viendo las diferentes aplicaciones prácticas iremos aclarando cada uno de estos puntos.\n"
      ],
      "metadata": {
        "id": "-JGpfU0TvZ8y"
      }
    },
    {
      "cell_type": "markdown",
      "source": [
        "<a name='8'></a>\n",
        "\n",
        "# $\\color{steelblue}{\\textsf{Referencias y enlaces de interés}}$"
      ],
      "metadata": {
        "id": "u6SCdV2q9zaE"
      }
    },
    {
      "cell_type": "markdown",
      "source": [
        "1.   Practical Machine Learning with Python (2018). Dipanjan Sarkar, Raghav Bali, Tushar Sharma. Apress, Berkeley, CA. ISBN 978-1-4842-3206-4. https://doi-org.publicaciones.umh.es/10.1007/978-1-4842-3207-1\n",
        "2.   Foundations of Machine Learning (2018). Mehryar Mohri, Afshin Rostamizadeh, and Ameet Talwalkar. MIT Press, Second Edition.\n",
        "3. Complete Machine Learning Package (2022). Jean de Dieu Nyandwi. https://github.com/Nyandwi/machine_learning_complete\n",
        "\n"
      ],
      "metadata": {
        "id": "YjaXLYPjoriz"
      }
    },
    {
      "cell_type": "markdown",
      "source": [
        "<a name='9'></a>\n",
        "\n",
        "# $\\color{steelblue}{\\textsf{Para ampliar contenidos}}$\n",
        "\n",
        "La comunidad de aprendizaje automático es muy dinámica. Hay muchos recursos de aprendizaje fabulosos, algunos de los cuales son de pago o gratuitos. Aquí hay una lista de cursos que han obtenido altas calificaciones de la comunidad. No están listados en el orden en que deben ser tomados.\n",
        "\n",
        "**Cursos**\n",
        "\n",
        "* Machine Learning de Coursera*: Este curso fue impartido por Andrew Ng. Es uno de los cursos de aprendizaje automático más populares, ha sido tomado por más de 4 millones de personas. El curso se centra más en los fundamentos de las técnicas y algoritmos de aprendizaje automático. Es gratuito en Coursera.\n",
        "\n",
        "* Especialización en ingeniería de aprendizaje automático para la producción (MLOps)*: Impartido por Andrew Ng., Laurence Moroney y Robert Crowe, este es uno de los mejores cursos de ingeniería de ML. Enseña cómo diseñar sistemas de producción de aprendizaje automático de extremo a extremo, construyendo pipelines de datos y de modelado eficientes, y desplegando modelos en producción. Puedes encontrar el curso en Coursera y otros materiales del curso en Github.\n",
        "\n",
        "**Libros**\n",
        "\n",
        "A continuación se muestran los libros de aprendizaje automático más impresionantes.\n",
        "\n",
        "* El Libro de Aprendizaje Automático de Cien Páginas*: Escrito por Andriy Burkov, este es uno de los libros más cortos pero concisos y bien escritos que encontrarás en Internet. \n",
        "\n",
        "* Ingeniería de aprendizaje automático*: También escrito por Andriy Burkov, este es otro gran libro de aprendizaje de máquinas que descubre cada paso del flujo de trabajo del aprendizaje de máquinas, desde la recopilación de datos, la preparación.... hasta el servicio de modelos y el mantenimiento. \n",
        "\n",
        "* Anhelo de aprendizaje automático*: Escrito por Andrew Ng., el libro contiene varias estrategias para construir sistemas de aprendizaje eficaces. Está dividido en pequeñas partes, lo que facilita su lectura, y no está dirigido exclusivamente a ingenieros de aprendizaje automático. Cualquier persona que trabaje con equipos de ciencia de datos y aprendizaje automático puede encontrar el libro útil. \n",
        "\n",
        "*Hands-on Machine Learning with Scikit-Learn, Keras, and TensorFlow*: escrito por Aurelion Geron, este es uno de los mejores libros de aprendizaje automático. Está escrito con claridad y está lleno de ideas y mejores prácticas. \n",
        "\n"
      ],
      "metadata": {
        "id": "oTIajVZ296CM"
      }
    }
  ]
}